{
  "nbformat": 4,
  "nbformat_minor": 0,
  "metadata": {
    "colab": {
      "provenance": [],
      "machine_shape": "hm",
      "gpuType": "T4"
    },
    "kernelspec": {
      "name": "python3",
      "display_name": "Python 3"
    },
    "language_info": {
      "name": "python"
    },
    "accelerator": "GPU"
  },
  "cells": [
    {
      "cell_type": "code",
      "source": [
        "!pip install opencv-python-headless tqdm scikit-learn matplotlib seaborn\n",
        "\n",
        "import os\n",
        "import cv2\n",
        "import torch\n",
        "import numpy as np\n",
        "import matplotlib.pyplot as plt\n",
        "from glob import glob\n",
        "from tqdm import tqdm\n",
        "from sklearn.model_selection import train_test_split\n",
        "from sklearn.metrics import classification_report, confusion_matrix\n",
        "from sklearn.preprocessing import LabelEncoder\n",
        "from torchvision import models, transforms\n",
        "import seaborn as sns\n",
        "from torch.utils.data import Dataset, DataLoader, Subset\n",
        "import torch.nn as nn\n"
      ],
      "metadata": {
        "colab": {
          "base_uri": "https://localhost:8080/"
        },
        "id": "ksFMc2R2s1EA",
        "outputId": "0ab48bd6-b659-4223-e300-9f50e485f660"
      },
      "execution_count": null,
      "outputs": [
        {
          "output_type": "stream",
          "name": "stdout",
          "text": [
            "Requirement already satisfied: opencv-python-headless in /usr/local/lib/python3.11/dist-packages (4.11.0.86)\n",
            "Requirement already satisfied: tqdm in /usr/local/lib/python3.11/dist-packages (4.67.1)\n",
            "Requirement already satisfied: scikit-learn in /usr/local/lib/python3.11/dist-packages (1.6.1)\n",
            "Requirement already satisfied: matplotlib in /usr/local/lib/python3.11/dist-packages (3.10.0)\n",
            "Requirement already satisfied: seaborn in /usr/local/lib/python3.11/dist-packages (0.13.2)\n",
            "Requirement already satisfied: numpy>=1.21.2 in /usr/local/lib/python3.11/dist-packages (from opencv-python-headless) (2.0.2)\n",
            "Requirement already satisfied: scipy>=1.6.0 in /usr/local/lib/python3.11/dist-packages (from scikit-learn) (1.14.1)\n",
            "Requirement already satisfied: joblib>=1.2.0 in /usr/local/lib/python3.11/dist-packages (from scikit-learn) (1.4.2)\n",
            "Requirement already satisfied: threadpoolctl>=3.1.0 in /usr/local/lib/python3.11/dist-packages (from scikit-learn) (3.6.0)\n",
            "Requirement already satisfied: contourpy>=1.0.1 in /usr/local/lib/python3.11/dist-packages (from matplotlib) (1.3.2)\n",
            "Requirement already satisfied: cycler>=0.10 in /usr/local/lib/python3.11/dist-packages (from matplotlib) (0.12.1)\n",
            "Requirement already satisfied: fonttools>=4.22.0 in /usr/local/lib/python3.11/dist-packages (from matplotlib) (4.57.0)\n",
            "Requirement already satisfied: kiwisolver>=1.3.1 in /usr/local/lib/python3.11/dist-packages (from matplotlib) (1.4.8)\n",
            "Requirement already satisfied: packaging>=20.0 in /usr/local/lib/python3.11/dist-packages (from matplotlib) (24.2)\n",
            "Requirement already satisfied: pillow>=8 in /usr/local/lib/python3.11/dist-packages (from matplotlib) (11.1.0)\n",
            "Requirement already satisfied: pyparsing>=2.3.1 in /usr/local/lib/python3.11/dist-packages (from matplotlib) (3.2.3)\n",
            "Requirement already satisfied: python-dateutil>=2.7 in /usr/local/lib/python3.11/dist-packages (from matplotlib) (2.8.2)\n",
            "Requirement already satisfied: pandas>=1.2 in /usr/local/lib/python3.11/dist-packages (from seaborn) (2.2.2)\n",
            "Requirement already satisfied: pytz>=2020.1 in /usr/local/lib/python3.11/dist-packages (from pandas>=1.2->seaborn) (2025.2)\n",
            "Requirement already satisfied: tzdata>=2022.7 in /usr/local/lib/python3.11/dist-packages (from pandas>=1.2->seaborn) (2025.2)\n",
            "Requirement already satisfied: six>=1.5 in /usr/local/lib/python3.11/dist-packages (from python-dateutil>=2.7->matplotlib) (1.17.0)\n"
          ]
        }
      ]
    },
    {
      "cell_type": "code",
      "source": [
        "from google.colab import drive\n",
        "drive.mount('/content/drive')\n",
        "\n"
      ],
      "metadata": {
        "colab": {
          "base_uri": "https://localhost:8080/"
        },
        "id": "GNra0qVX_ORd",
        "outputId": "1ee8d67a-b3d7-4349-e5f7-c28870eab592"
      },
      "execution_count": null,
      "outputs": [
        {
          "output_type": "stream",
          "name": "stdout",
          "text": [
            "Mounted at /content/drive\n"
          ]
        }
      ]
    },
    {
      "cell_type": "code",
      "source": [
        "# Constants\n",
        "VIDEO_PATH = \"/content/drive/MyDrive/lsa64\"\n",
        "NUM_FRAMES = 12\n",
        "IMAGE_SIZE = 224\n",
        "BATCH_SIZE = 8\n",
        "EPOCHS = 24\n",
        "device = torch.device(\"cuda\" if torch.cuda.is_available() else \"cpu\")\n",
        "\n",
        "# Transform\n",
        "transform = transforms.Compose([\n",
        "    transforms.ToPILImage(),\n",
        "    transforms.Resize((IMAGE_SIZE, IMAGE_SIZE)),\n",
        "    transforms.ToTensor()\n",
        "])"
      ],
      "metadata": {
        "id": "qampGwKVBiCA"
      },
      "execution_count": null,
      "outputs": []
    },
    {
      "cell_type": "code",
      "source": [
        "class LSA64Dataset(Dataset):\n",
        "    def __init__(self, video_dir, transform=None):\n",
        "        self.video_paths = sorted(glob(os.path.join(video_dir, \"*.mp4\")))\n",
        "        self.transform = transform\n",
        "\n",
        "        # Extract gloss labels (e.g., '001') and encode\n",
        "        self.labels = [os.path.basename(v).split('_')[0] for v in self.video_paths]\n",
        "        self.label_encoder = LabelEncoder()\n",
        "        self.encoded_labels = self.label_encoder.fit_transform(self.labels)\n",
        "\n",
        "    def __len__(self):\n",
        "        return len(self.video_paths)\n",
        "\n",
        "    def __getitem__(self, idx):\n",
        "        path = self.video_paths[idx]\n",
        "        label = self.encoded_labels[idx]\n",
        "        frames = self.load_frames(path)\n",
        "\n",
        "        if self.transform:\n",
        "            frames = torch.stack([self.transform(f) for f in frames])\n",
        "        return frames, label\n",
        "\n",
        "    def load_frames(self, video_path):\n",
        "      cap = cv2.VideoCapture(video_path)\n",
        "      total = int(cap.get(cv2.CAP_PROP_FRAME_COUNT))\n",
        "\n",
        "      if total == 0:\n",
        "          cap.release()\n",
        "          print(f\"⚠️ Skipping empty video: {video_path}\")\n",
        "          return [torch.zeros(3, IMAGE_SIZE, IMAGE_SIZE)] * NUM_FRAMES\n",
        "\n",
        "      frame_idxs = np.linspace(0, total - 1, NUM_FRAMES, dtype=int)\n",
        "      frames = []\n",
        "      for i in range(total):\n",
        "          ret, frame = cap.read()\n",
        "          if i in frame_idxs and ret:\n",
        "              frame = cv2.cvtColor(frame, cv2.COLOR_BGR2RGB)\n",
        "              frames.append(frame)\n",
        "      cap.release()\n",
        "\n",
        "      if len(frames) == 0:\n",
        "          print(f\"⚠️ No readable frames in: {video_path}\")\n",
        "          return [torch.zeros(3, IMAGE_SIZE, IMAGE_SIZE)] * NUM_FRAMES\n",
        "\n",
        "      if len(frames) < NUM_FRAMES:\n",
        "          frames += [frames[-1]] * (NUM_FRAMES - len(frames))\n",
        "\n",
        "      frames = [torch.from_numpy(f).permute(2, 0, 1).float() / 255.0 for f in frames]\n",
        "      return frames\n",
        "\n"
      ],
      "metadata": {
        "id": "ptRjPFgitGX1"
      },
      "execution_count": null,
      "outputs": []
    },
    {
      "cell_type": "code",
      "source": [
        "dataset = LSA64Dataset(VIDEO_PATH, transform)\n",
        "NUM_CLASSES = len(dataset.label_encoder.classes_)\n",
        "\n",
        "\n"
      ],
      "metadata": {
        "id": "yFL6HfxQBcpv"
      },
      "execution_count": null,
      "outputs": []
    },
    {
      "cell_type": "code",
      "source": [
        "class ResNetLSTM(nn.Module):\n",
        "    def __init__(self, hidden_dim=256, num_classes=NUM_CLASSES):\n",
        "        super().__init__()\n",
        "        base = models.resnet50(weights=models.ResNet50_Weights.IMAGENET1K_V1)\n",
        "        self.cnn = nn.Sequential(*list(base.children())[:-1])\n",
        "        self.lstm = nn.LSTM(input_size=2048, hidden_size=hidden_dim, num_layers=1, batch_first=True)\n",
        "        self.fc = nn.Linear(hidden_dim, num_classes)\n",
        "\n",
        "    def forward(self, x):\n",
        "        B, T, C, H, W = x.shape\n",
        "        x = x.view(B * T, C, H, W)\n",
        "        with torch.no_grad():\n",
        "            cnn_out = self.cnn(x).view(B, T, -1)\n",
        "        lstm_out, _ = self.lstm(cnn_out)\n",
        "        return self.fc(lstm_out[:, -1, :])\n"
      ],
      "metadata": {
        "id": "e8vFcUOStGy6"
      },
      "execution_count": null,
      "outputs": []
    },
    {
      "cell_type": "code",
      "source": [
        "# Model\n",
        "class ResNetLSTM(nn.Module):\n",
        "    def __init__(self, hidden_dim=256, num_classes=NUM_CLASSES):\n",
        "        super().__init__()\n",
        "        base = models.resnet50(weights=models.ResNet50_Weights.IMAGENET1K_V1)\n",
        "        self.cnn = nn.Sequential(*list(base.children())[:-1])\n",
        "        for param in self.cnn.parameters():\n",
        "            param.requires_grad = False\n",
        "        self.lstm = nn.LSTM(input_size=2048, hidden_size=hidden_dim, num_layers=1, batch_first=True)\n",
        "        self.fc = nn.Linear(hidden_dim, num_classes)\n",
        "\n",
        "    def forward(self, x):\n",
        "        B, T, C, H, W = x.shape\n",
        "        x = x.view(B * T, C, H, W)\n",
        "        with torch.no_grad():\n",
        "            cnn_out = self.cnn(x).view(B, T, -1)\n",
        "        lstm_out, _ = self.lstm(cnn_out)\n",
        "        return self.fc(lstm_out[:, -1, :])\n"
      ],
      "metadata": {
        "id": "nt93Ne40tJBK"
      },
      "execution_count": null,
      "outputs": []
    },
    {
      "cell_type": "code",
      "source": [
        "NUM_CLASSES = len(dataset.label_encoder.classes_)\n",
        "print(\"NUM_CLASSES =\", NUM_CLASSES)\n"
      ],
      "metadata": {
        "id": "Pt4n9tYYBNEd",
        "colab": {
          "base_uri": "https://localhost:8080/"
        },
        "outputId": "ba1dfb40-3d4f-4e99-89e7-743969484b2d"
      },
      "execution_count": null,
      "outputs": [
        {
          "output_type": "stream",
          "name": "stdout",
          "text": [
            "NUM_CLASSES = 64\n"
          ]
        }
      ]
    },
    {
      "cell_type": "code",
      "source": [
        "dataset = LSA64Dataset(VIDEO_PATH, transform)\n",
        "print(\"Total samples:\", len(dataset))\n",
        "\n",
        "# Train-test-val split\n",
        "indices = list(range(len(dataset)))\n",
        "train_idx, test_idx = train_test_split(indices, test_size=0.2, stratify=dataset.encoded_labels, random_state=42)\n",
        "train_idx, val_idx = train_test_split(train_idx, test_size=0.1, stratify=[dataset.encoded_labels[i] for i in train_idx], random_state=42)\n",
        "\n",
        "# DataLoaders\n",
        "train_loader = DataLoader(Subset(dataset, train_idx), batch_size=BATCH_SIZE, shuffle=True)\n",
        "val_loader = DataLoader(Subset(dataset, val_idx), batch_size=BATCH_SIZE)\n",
        "test_loader = DataLoader(Subset(dataset, test_idx), batch_size=BATCH_SIZE)\n",
        "\n",
        "# Initialize model\n",
        "model = ResNetLSTM(num_classes=NUM_CLASSES).to(device)\n",
        "criterion = nn.CrossEntropyLoss()\n",
        "optimizer = torch.optim.Adam(model.parameters(), lr=1e-4)\n",
        "\n",
        "# Evaluation helper\n",
        "def evaluate(loader):\n",
        "    model.eval()\n",
        "    all_preds, all_labels = [], []\n",
        "    with torch.no_grad():\n",
        "        for x, y in loader:\n",
        "            x, y = x.to(device), y.to(device)\n",
        "            out = model(x)\n",
        "            all_preds.append(out.argmax(1).cpu())\n",
        "            all_labels.append(y.cpu())\n",
        "    return torch.cat(all_preds), torch.cat(all_labels)"
      ],
      "metadata": {
        "colab": {
          "base_uri": "https://localhost:8080/"
        },
        "id": "X8Htpln-tKX5",
        "outputId": "8f1e84b0-ee00-4166-c316-d1abe2f0e3c4"
      },
      "execution_count": null,
      "outputs": [
        {
          "output_type": "stream",
          "name": "stdout",
          "text": [
            "Total samples: 3200\n"
          ]
        },
        {
          "output_type": "stream",
          "name": "stderr",
          "text": [
            "Downloading: \"https://download.pytorch.org/models/resnet50-0676ba61.pth\" to /root/.cache/torch/hub/checkpoints/resnet50-0676ba61.pth\n",
            "100%|██████████| 97.8M/97.8M [00:00<00:00, 156MB/s]\n"
          ]
        }
      ]
    },
    {
      "cell_type": "code",
      "source": [
        "train_accuracies = []\n",
        "val_accuracies = []\n",
        "\n",
        "for epoch in range(1, EPOCHS + 1):\n",
        "    model.train()\n",
        "    total_loss, total_correct = 0, 0\n",
        "\n",
        "    for x, y in tqdm(train_loader, desc=f\"Epoch {epoch}/{EPOCHS}\"):\n",
        "        x, y = x.to(device), y.to(device)\n",
        "        optimizer.zero_grad()\n",
        "        out = model(x)\n",
        "        loss = criterion(out, y)\n",
        "        loss.backward()\n",
        "        optimizer.step()\n",
        "        total_loss += loss.item()\n",
        "        total_correct += (out.argmax(1) == y).sum().item()\n",
        "\n",
        "    train_acc = total_correct / len(train_idx)\n",
        "    val_preds, val_labels = evaluate(val_loader)\n",
        "    val_acc = (val_preds == val_labels).float().mean().item()\n",
        "\n",
        "    train_accuracies.append(train_acc)\n",
        "    val_accuracies.append(val_acc)\n",
        "\n",
        "    print(f\"Loss: {total_loss:.2f} | Train Acc: {train_acc:.4f} | Val Acc: {val_acc:.4f}\")\n",
        "\n",
        "    if epoch in [8, 12, 16, 20, 24]:\n",
        "        torch.save(model.state_dict(), f\"checkpoint_epoch_{epoch}.pth\")\n",
        "        print(f\"✅ Saved checkpoint at epoch {epoch}\")\n"
      ],
      "metadata": {
        "colab": {
          "base_uri": "https://localhost:8080/"
        },
        "id": "sBXgPkpOChrN",
        "outputId": "1a11500d-97f6-46f4-9ba0-754933fcca02"
      },
      "execution_count": null,
      "outputs": [
        {
          "metadata": {
            "tags": null
          },
          "name": "stderr",
          "output_type": "stream",
          "text": [
            "Epoch 1/24: 100%|██████████| 288/288 [26:15<00:00,  5.47s/it]\n"
          ]
        },
        {
          "metadata": {
            "tags": null
          },
          "name": "stdout",
          "output_type": "stream",
          "text": [
            "Loss: 1151.59 | Train Acc: 0.0525 | Val Acc: 0.1367\n"
          ]
        },
        {
          "metadata": {
            "tags": null
          },
          "name": "stderr",
          "output_type": "stream",
          "text": [
            "Epoch 2/24: 100%|██████████| 288/288 [25:23<00:00,  5.29s/it]\n"
          ]
        },
        {
          "metadata": {
            "tags": null
          },
          "name": "stdout",
          "output_type": "stream",
          "text": [
            "Loss: 1001.35 | Train Acc: 0.1493 | Val Acc: 0.2266\n"
          ]
        },
        {
          "metadata": {
            "tags": null
          },
          "name": "stderr",
          "output_type": "stream",
          "text": [
            "Epoch 3/24: 100%|██████████| 288/288 [25:19<00:00,  5.28s/it]\n"
          ]
        },
        {
          "metadata": {
            "tags": null
          },
          "name": "stdout",
          "output_type": "stream",
          "text": [
            "Loss: 861.84 | Train Acc: 0.3203 | Val Acc: 0.3398\n"
          ]
        },
        {
          "output_type": "stream",
          "name": "stderr",
          "text": [
            "Epoch 4/24: 100%|██████████| 288/288 [25:39<00:00,  5.35s/it]\n"
          ]
        },
        {
          "output_type": "stream",
          "name": "stdout",
          "text": [
            "Loss: 747.91 | Train Acc: 0.4288 | Val Acc: 0.5547\n"
          ]
        },
        {
          "output_type": "stream",
          "name": "stderr",
          "text": [
            "Epoch 5/24: 100%|██████████| 288/288 [25:14<00:00,  5.26s/it]\n"
          ]
        },
        {
          "output_type": "stream",
          "name": "stdout",
          "text": [
            "Loss: 640.57 | Train Acc: 0.5629 | Val Acc: 0.6172\n"
          ]
        },
        {
          "output_type": "stream",
          "name": "stderr",
          "text": [
            "Epoch 6/24: 100%|██████████| 288/288 [25:54<00:00,  5.40s/it]\n"
          ]
        },
        {
          "output_type": "stream",
          "name": "stdout",
          "text": [
            "Loss: 544.77 | Train Acc: 0.6454 | Val Acc: 0.7188\n"
          ]
        },
        {
          "output_type": "stream",
          "name": "stderr",
          "text": [
            "Epoch 7/24: 100%|██████████| 288/288 [24:48<00:00,  5.17s/it]\n"
          ]
        },
        {
          "output_type": "stream",
          "name": "stdout",
          "text": [
            "Loss: 460.50 | Train Acc: 0.7344 | Val Acc: 0.7461\n"
          ]
        },
        {
          "output_type": "stream",
          "name": "stderr",
          "text": [
            "Epoch 8/24: 100%|██████████| 288/288 [25:37<00:00,  5.34s/it]\n"
          ]
        },
        {
          "output_type": "stream",
          "name": "stdout",
          "text": [
            "Loss: 405.40 | Train Acc: 0.7799 | Val Acc: 0.7969\n",
            "✅ Saved checkpoint at epoch 8\n"
          ]
        },
        {
          "output_type": "stream",
          "name": "stderr",
          "text": [
            "Epoch 9/24: 100%|██████████| 288/288 [25:25<00:00,  5.30s/it]\n"
          ]
        },
        {
          "output_type": "stream",
          "name": "stdout",
          "text": [
            "Loss: 337.76 | Train Acc: 0.8333 | Val Acc: 0.8359\n"
          ]
        },
        {
          "output_type": "stream",
          "name": "stderr",
          "text": [
            "Epoch 10/24: 100%|██████████| 288/288 [24:13<00:00,  5.05s/it]\n"
          ]
        },
        {
          "output_type": "stream",
          "name": "stdout",
          "text": [
            "Loss: 297.08 | Train Acc: 0.8507 | Val Acc: 0.8438\n"
          ]
        },
        {
          "output_type": "stream",
          "name": "stderr",
          "text": [
            "Epoch 11/24: 100%|██████████| 288/288 [25:21<00:00,  5.28s/it]\n"
          ]
        },
        {
          "output_type": "stream",
          "name": "stdout",
          "text": [
            "Loss: 247.62 | Train Acc: 0.8763 | Val Acc: 0.8398\n"
          ]
        },
        {
          "output_type": "stream",
          "name": "stderr",
          "text": [
            "Epoch 12/24: 100%|██████████| 288/288 [25:11<00:00,  5.25s/it]\n"
          ]
        },
        {
          "output_type": "stream",
          "name": "stdout",
          "text": [
            "Loss: 218.36 | Train Acc: 0.9010 | Val Acc: 0.8711\n",
            "✅ Saved checkpoint at epoch 12\n"
          ]
        },
        {
          "output_type": "stream",
          "name": "stderr",
          "text": [
            "Epoch 13/24: 100%|██████████| 288/288 [25:26<00:00,  5.30s/it]\n"
          ]
        },
        {
          "output_type": "stream",
          "name": "stdout",
          "text": [
            "Loss: 190.24 | Train Acc: 0.9049 | Val Acc: 0.8789\n"
          ]
        },
        {
          "output_type": "stream",
          "name": "stderr",
          "text": [
            "Epoch 14/24: 100%|██████████| 288/288 [25:22<00:00,  5.29s/it]\n"
          ]
        },
        {
          "output_type": "stream",
          "name": "stdout",
          "text": [
            "Loss: 167.16 | Train Acc: 0.9223 | Val Acc: 0.9062\n"
          ]
        },
        {
          "output_type": "stream",
          "name": "stderr",
          "text": [
            "Epoch 15/24: 100%|██████████| 288/288 [25:09<00:00,  5.24s/it]\n"
          ]
        },
        {
          "output_type": "stream",
          "name": "stdout",
          "text": [
            "Loss: 145.20 | Train Acc: 0.9340 | Val Acc: 0.8906\n"
          ]
        },
        {
          "output_type": "stream",
          "name": "stderr",
          "text": [
            "Epoch 16/24: 100%|██████████| 288/288 [25:18<00:00,  5.27s/it]\n"
          ]
        },
        {
          "output_type": "stream",
          "name": "stdout",
          "text": [
            "Loss: 131.31 | Train Acc: 0.9366 | Val Acc: 0.9062\n",
            "✅ Saved checkpoint at epoch 16\n"
          ]
        },
        {
          "output_type": "stream",
          "name": "stderr",
          "text": [
            "Epoch 17/24: 100%|██████████| 288/288 [25:28<00:00,  5.31s/it]\n"
          ]
        },
        {
          "output_type": "stream",
          "name": "stdout",
          "text": [
            "Loss: 115.18 | Train Acc: 0.9444 | Val Acc: 0.9180\n"
          ]
        },
        {
          "output_type": "stream",
          "name": "stderr",
          "text": [
            "Epoch 18/24: 100%|██████████| 288/288 [25:13<00:00,  5.25s/it]\n"
          ]
        },
        {
          "output_type": "stream",
          "name": "stdout",
          "text": [
            "Loss: 104.44 | Train Acc: 0.9557 | Val Acc: 0.9102\n"
          ]
        },
        {
          "output_type": "stream",
          "name": "stderr",
          "text": [
            "Epoch 19/24: 100%|██████████| 288/288 [25:27<00:00,  5.30s/it]\n"
          ]
        },
        {
          "output_type": "stream",
          "name": "stdout",
          "text": [
            "Loss: 90.28 | Train Acc: 0.9648 | Val Acc: 0.9375\n"
          ]
        },
        {
          "output_type": "stream",
          "name": "stderr",
          "text": [
            "Epoch 20/24: 100%|██████████| 288/288 [25:21<00:00,  5.28s/it]\n"
          ]
        },
        {
          "output_type": "stream",
          "name": "stdout",
          "text": [
            "Loss: 88.34 | Train Acc: 0.9627 | Val Acc: 0.9336\n",
            "✅ Saved checkpoint at epoch 20\n"
          ]
        },
        {
          "output_type": "stream",
          "name": "stderr",
          "text": [
            "Epoch 21/24: 100%|██████████| 288/288 [25:15<00:00,  5.26s/it]\n"
          ]
        },
        {
          "output_type": "stream",
          "name": "stdout",
          "text": [
            "Loss: 76.02 | Train Acc: 0.9727 | Val Acc: 0.9453\n"
          ]
        },
        {
          "output_type": "stream",
          "name": "stderr",
          "text": [
            "Epoch 22/24: 100%|██████████| 288/288 [25:05<00:00,  5.23s/it]\n"
          ]
        },
        {
          "output_type": "stream",
          "name": "stdout",
          "text": [
            "Loss: 76.35 | Train Acc: 0.9670 | Val Acc: 0.9297\n"
          ]
        },
        {
          "output_type": "stream",
          "name": "stderr",
          "text": [
            "Epoch 23/24: 100%|██████████| 288/288 [25:53<00:00,  5.39s/it]\n"
          ]
        },
        {
          "output_type": "stream",
          "name": "stdout",
          "text": [
            "Loss: 67.18 | Train Acc: 0.9735 | Val Acc: 0.9453\n"
          ]
        },
        {
          "output_type": "stream",
          "name": "stderr",
          "text": [
            "Epoch 24/24: 100%|██████████| 288/288 [26:07<00:00,  5.44s/it]\n"
          ]
        },
        {
          "output_type": "stream",
          "name": "stdout",
          "text": [
            "Loss: 56.31 | Train Acc: 0.9796 | Val Acc: 0.9609\n",
            "✅ Saved checkpoint at epoch 24\n"
          ]
        }
      ]
    },
    {
      "cell_type": "code",
      "source": [
        "import matplotlib.pyplot as plt\n",
        "\n",
        "epochs = list(range(1, 25))\n",
        "train_acc = [\n",
        "    0.0525, 0.1493, 0.3203, 0.4288, 0.5629, 0.6454, 0.7344, 0.7799,\n",
        "    0.8333, 0.8507, 0.8763, 0.9010, 0.9049, 0.9223, 0.9340, 0.9366,\n",
        "    0.9444, 0.9557, 0.9648, 0.9627, 0.9727, 0.9670, 0.9735, 0.9796\n",
        "]\n",
        "val_acc = [\n",
        "    0.1367, 0.2266, 0.3398, 0.5547, 0.6172, 0.7188, 0.7461, 0.7969,\n",
        "    0.8359, 0.8438, 0.8398, 0.8711, 0.8789, 0.9062, 0.8906, 0.9062,\n",
        "    0.9180, 0.9102, 0.9375, 0.9336, 0.9453, 0.9297, 0.9453, 0.9609\n",
        "]\n",
        "\n",
        "# Plotting the accuracy\n",
        "plt.figure(figsize=(10, 6))\n",
        "plt.plot(epochs, train_acc, marker='o', label='Train Accuracy')\n",
        "plt.plot(epochs, val_acc, marker='s', label='Validation Accuracy')\n",
        "plt.xlabel('Epochs')\n",
        "plt.ylabel('Accuracy')\n",
        "plt.title('Train vs Validation Accuracy per Epoch')\n",
        "plt.legend()\n",
        "plt.grid(True)\n",
        "plt.xticks(epochs)\n",
        "plt.tight_layout()\n",
        "plt.show()\n"
      ],
      "metadata": {
        "colab": {
          "base_uri": "https://localhost:8080/",
          "height": 607
        },
        "id": "wCQTMCK4zQD6",
        "outputId": "8569803a-aa54-4426-f334-18176440cd5c"
      },
      "execution_count": null,
      "outputs": [
        {
          "output_type": "display_data",
          "data": {
            "text/plain": [
              "<Figure size 1000x600 with 1 Axes>"
            ],
            "image/png": "[encoded data removed]"
          },
          "metadata": {}
        }
      ]
    },
    {
      "cell_type": "code",
      "source": [],
      "metadata": {
        "id": "rMg6Yq0Dz4A1"
      },
      "execution_count": null,
      "outputs": []
    }
  ]
}